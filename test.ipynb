{
 "cells": [
  {
   "cell_type": "code",
   "execution_count": 18,
   "metadata": {},
   "outputs": [],
   "source": [
    "text = \"\"\"Вернемся к нашим баранам. Level взял еще одну площадку в Хамовниках. Кроме ЗУ по адресу «Большой Саввинский переулок, 9» в портфеле теперь «Саввинская набережная, 27». Поэтому адресу располагается здание XIX в., ранее там располагалось общежитие Московского шёлкового комбината им. Свердлова. А сейчас на фасаде находится одна из работ Alexandre Farto aka Vhils. Это выдолбленный в стене портрет Германа Гессе, он «Игру в бисер» написал. Обратите внимание на логотип ПИК.\n",
    "\n",
    "Две площадки в Хамовниках это уже заявка на серьезную конкуренцию в рамках де-люкса. Виды, конечно, у «Саввиной набережной, 27» так себе на фоне конкурентов, но все остальное 10/10.\n",
    "\n",
    "#перспективныйпроект\"\"\"\n",
    "text_pik = \"\"\"Давно не обновляли список проектов, которые смотрел ПИК для покупки. Обновляем. Делить Forma или ПИК не будем, так как хер проссыль логику чего куда запихнут по итогу, а вот Mono на свой вкус выделим, там набралось много интересных и довольно нетривиальных площадок.\n",
    "\n",
    "1. Полковая, 1 - смотрели полгода назад, но это 100% проект Пионера.\n",
    "2. Демьяна Бедного 22, к. 3 - реновация\n",
    "3. Верхние поля, 19 - реновация\n",
    "4. Алтуфьевское, 51-53 - взяли готов коммерческий проект\n",
    "5. Нансена, 8/1\n",
    "6. Камова, 1\n",
    "7. Оренбургская, 4\n",
    "8. Веерная, 28 - скорее всего реновация\n",
    "9. Причальный, 7 - скорее всего реновация\n",
    "10. Алтуфьевское, 27а\n",
    "11. Плеханова, 11, 13\n",
    "12. 2-й пр-д Перова Поля, 27а\n",
    "13. Каширское шоссе, 9к2 - скорее всего реновация\n",
    "14. Героев Панфиловцев, 31 - скорее всего реновация\n",
    "15. 11-я Парковая, 57 - скорее всего реновация\n",
    "16. Рублёвское шоссе, 58\n",
    "17. 3-й Хорошевский, 5 - рядом с овощебазой\n",
    "18. Котляковская, 6\n",
    "19. 5-й Донской, 21Б\n",
    "20. Угрешская, 33\n",
    "21. Азовская, 24\n",
    "22. Кировоградская, 9\n",
    "23. Вавилова, 5\n",
    "24. Деловая, 20\n",
    "25. Ряжская, 13\n",
    "26. Тайнинская, 3\n",
    "27. 2-й Нагатинский, 6А - потенциальное продолжение текущего проекта\n",
    "28. Леснорядская, 7\n",
    "29. Пролетарский, 16/3\n",
    "30. Большая Почтовая, 61\n",
    "31. Гродненская, 3\n",
    "32. Мосрентген, Славянский мир\n",
    "33. Мосрентген, Стройгарант\n",
    "34. Новохорошевский пр-д, 24\n",
    "35. Ходынская, 10Ас2 - участок для присоединения к Пресненскому Валу, 27\n",
    "36. Давыдковская, 10к1 - скорее всего реновация\n",
    "37. Электролитный проезд, 10\n",
    "38. 3-й Силикатный проезд, 3\n",
    "39. Старокалужское, 64 - не одним Евером порадуют локацию\n",
    "40. Профсоюзная, 78А\n",
    "41. Новодмитровская, 5А - чтобы не терять локацию после завершения Шереметьевского\n",
    "42. Декабристов, 45 - продолжение Грин Парка\n",
    "43. Совхозная, 55, стр. 1\n",
    "44. 2-й Иртышский проезд, 6\n",
    "45. Котляковская, 4\n",
    "46. Волжский бульвар, 51\n",
    "47. Вольная, 25\n",
    "48. Сосинская, 43\n",
    "49. Большая Тульская, 10\n",
    "50. Хорошёвское, 38\n",
    "51. Рублевское шоссе, 121\n",
    "52. Обручева, 34/63 - площадку продали, CG от неё отращивается.\n",
    "53. Нагорный проезд, 7\n",
    "54. Энтузиастов, 42/2\n",
    "55. Краснобогатырская, 89\n",
    "56. Зорге, 19\n",
    "57. Народного Ополчения, 34\n",
    "58. Новохохловская, 11\n",
    "59. Азовская, 28Б\n",
    "60. Варшавское, 125Ж\n",
    "61. Варшавское, 135Б\n",
    "62. Варшавское, 127\n",
    "63. Верхнелихоборская, 8\n",
    "64. Добролюбова, 3с1\n",
    "65. Ольховская, 27\n",
    "66. Космонавта Волкова, 31\n",
    "67. Бауманская, 11\n",
    "68. 3-й Сетуньский, 10\n",
    "69. Живописная, 27\n",
    "70. 5-я ул. Соколиной Горы, 21А\n",
    "71. Правды, 8\n",
    "72. Красного Маяка, 16\n",
    "73. Верейская, 29\n",
    "74. 1-й Иртышский, 10\n",
    "75. Люблинская, 1А\n",
    "\n",
    "Mono:\n",
    "1. Большой Тишинский, 39\n",
    "2. Погодинская, 22\n",
    "3. Малая Никитская, 27\n",
    "4. Товарищеский, 4\n",
    "5. Обуха, 3-1/12\n",
    "6. Раевского, 4\n",
    "7. Малая Грузинская, 3\n",
    "8. Шаболовка, 31\n",
    "9. Фрунзенская, 30\n",
    "10. Усачёва, 22\n",
    "11. Малая Дмитровка, 23/15\n",
    "12. Большой Афанасьевский, 7с1\n",
    "13. Коробейников, 8 - даже Золотую Милю смотрят\n",
    "14. Луков, 2\n",
    "15. Калошин, 2/24\n",
    "16. Большой Тишинский, 43Ас1\n",
    "17. Тишинская площадь, 1\n",
    "18. Волков переулок, 10 - очень активно смотрят Пресню. Вероятно, кому-то она запала в душу и не выпадала.\n",
    "19. Малый Казённый, 5\n",
    "20. Гиляровского, 37к2\n",
    "21. Малая Дмитровка, 10\n",
    "22. Сретенка, 17с1\n",
    "23. Капранова, 3\n",
    "24. Сергея Макеева, 7\n",
    "25. Кузнецкий мост, 21/5\n",
    "26. Хамовнический вал, 34\n",
    "\n",
    "#перспективныйпроект\"\"\"\n",
    "\n",
    "text_no_developer = \"\"\"Здравствуйте, дорогие друзья, теперь новостей про девелоперов не будет. Мы будем продавать цветочки.\"\"\""
   ]
  },
  {
   "cell_type": "code",
   "execution_count": 5,
   "metadata": {},
   "outputs": [
    {
     "data": {
      "text/plain": [
       "True"
      ]
     },
     "execution_count": 5,
     "metadata": {},
     "output_type": "execute_result"
    }
   ],
   "source": [
    "from dotenv import load_dotenv\n",
    "load_dotenv()"
   ]
  },
  {
   "cell_type": "code",
   "execution_count": 21,
   "metadata": {},
   "outputs": [
    {
     "name": "stdout",
     "output_type": "stream",
     "text": [
      "Level\n",
      "9705093917\n"
     ]
    }
   ],
   "source": [
    "from langchain.chains import LLMChain\n",
    "from langchain_core.prompts import PromptTemplate\n",
    "from langchain_community.llms import GigaChat\n",
    "from src.inn_parser import GoogleParser\n",
    "\n",
    "template = \"Определи девелоперскую компанию в новости, она должна быть застройщиком. В ответе напиши только её название, если в тексте нет названия девелоперской компании, напиши Нет.\\nНовость: {text}\"\n",
    "prompt = PromptTemplate.from_template(template)\n",
    "llm = GigaChat(verify_ssl_certs=False, scope=\"GIGACHAT_API_CORP\")\n",
    "llm_chain = LLMChain(prompt=prompt, llm=llm)\n",
    "ans = llm_chain.invoke({'text': text})\n",
    "print(ans['text'])\n",
    "print(GoogleParser.third_function(ans['text']))"
   ]
  },
  {
   "cell_type": "code",
   "execution_count": 17,
   "metadata": {},
   "outputs": [
    {
     "name": "stdout",
     "output_type": "stream",
     "text": [
      "Mono\n"
     ]
    }
   ],
   "source": [
    "ans = llm_chain.invoke({'text': text_pik})\n",
    "print(ans['text'])"
   ]
  },
  {
   "cell_type": "code",
   "execution_count": 20,
   "metadata": {},
   "outputs": [
    {
     "name": "stdout",
     "output_type": "stream",
     "text": [
      "Нет\n"
     ]
    }
   ],
   "source": [
    "ans = llm_chain.invoke({'text': text_no_developer})\n",
    "print(ans['text'])"
   ]
  },
  {
   "cell_type": "code",
   "execution_count": 23,
   "metadata": {},
   "outputs": [
    {
     "data": {
      "text/plain": [
       "'Девелопер redf (ИНН застройщика 12312) Адрес: 1232'"
      ]
     },
     "execution_count": 23,
     "metadata": {},
     "output_type": "execute_result"
    }
   ],
   "source": [
    "aug_template = 'Девелопер {company} (ИНН застройщика {inn}) Адрес: {text}'\n",
    "f\"{aug_template}\".format(company=\"redf\", inn=12312, text=1232)"
   ]
  },
  {
   "cell_type": "code",
   "execution_count": 25,
   "metadata": {},
   "outputs": [],
   "source": [
    "from threading import Thread, Event\n",
    "\n",
    "class MyThread(Thread):\n",
    "    def __init__(self, event):\n",
    "        Thread.__init__(self)\n",
    "        self.stopped = event\n",
    "\n",
    "    def run(self):\n",
    "        while not self.stopped.wait(0.5):\n",
    "            print(\"my thread\")\n",
    "            # call a function"
   ]
  },
  {
   "cell_type": "code",
   "execution_count": 31,
   "metadata": {},
   "outputs": [
    {
     "name": "stdout",
     "output_type": "stream",
     "text": [
      "Hello from the background thread\n",
      "Hello from the background thread\n",
      "Hello from the background thread\n",
      "Hello from the background thread\n",
      "Hello from the background thread\n",
      "Hello from the background thread\n",
      "Hello from the background thread\n",
      "Hello from the background thread\n",
      "Hello from the background thread\n"
     ]
    }
   ],
   "source": [
    "import threading\n",
    "import time\n",
    "\n",
    "import schedule\n",
    "\n",
    "\n",
    "def run_continuously(interval=1):\n",
    "    \"\"\"Continuously run, while executing pending jobs at each\n",
    "    elapsed time interval.\n",
    "    @return cease_continuous_run: threading. Event which can\n",
    "    be set to cease continuous run. Please note that it is\n",
    "    *intended behavior that run_continuously() does not run\n",
    "    missed jobs*. For example, if you've registered a job that\n",
    "    should run every minute and you set a continuous run\n",
    "    interval of one hour then your job won't be run 60 times\n",
    "    at each interval but only once.\n",
    "    \"\"\"\n",
    "    cease_continuous_run = threading.Event()\n",
    "\n",
    "    class ScheduleThread(threading.Thread):\n",
    "        @classmethod\n",
    "        def run(cls):\n",
    "            while not cease_continuous_run.is_set():\n",
    "                schedule.run_pending()\n",
    "                time.sleep(interval)\n",
    "\n",
    "    continuous_thread = ScheduleThread()\n",
    "    continuous_thread.start()\n",
    "    return cease_continuous_run\n",
    "\n",
    "\n",
    "def background_job():\n",
    "    print('Hello from the background thread')\n",
    "\n",
    "\n",
    "schedule.every().second.do(background_job)\n",
    "\n",
    "# Start the background thread\n",
    "stop_run_continuously = run_continuously()\n",
    "\n",
    "# Do some other things...\n",
    "time.sleep(10)\n",
    "\n",
    "# Stop the background thread\n",
    "stop_run_continuously.set()\n"
   ]
  },
  {
   "cell_type": "code",
   "execution_count": 34,
   "metadata": {},
   "outputs": [],
   "source": [
    "payload={\n",
    "    \"messages\": [\n",
    "        {\n",
    "            \"content\": \"Какая погода в Москве сегодня?\",\n",
    "            \"role\": \"user\"\n",
    "        }\n",
    "    ],\n",
    "    \"functions\": [\n",
    "        {\n",
    "            \"name\": \"fc\",\n",
    "            \"description\": \"Get an N-day weather forecast\",\n",
    "            \"parameters\": {\n",
    "                \"properties\": {\n",
    "                    \"format\": {\n",
    "                        \"description\": \"The temperature unit to use. Infer this from the users location.\",\n",
    "                        \"enum\": [\n",
    "                            \"celsius\",\n",
    "                            \"fahrenheit\"\n",
    "                        ],\n",
    "                        \"type\": \"string\"\n",
    "                    },\n",
    "                    \"location\": {\n",
    "                        \"description\": \"Location, e.g. the city name\",\n",
    "                        \"type\": \"string\"\n",
    "                    },\n",
    "                    \"num_days\": {\n",
    "                        \"description\": \"The number of days to forecast\",\n",
    "                        \"type\": \"integer\"\n",
    "                    }\n",
    "                },\n",
    "                \"required\": [\n",
    "                    \"location\",\n",
    "                    \"num_days\"\n",
    "                ],\n",
    "                \"type\": \"object\"\n",
    "            },\n",
    "            \"return_parameters\": {\n",
    "                \"properties\": {\n",
    "                    \"error\": {\n",
    "                        \"description\": \"returned if an error has occured, value is the error description string\",\n",
    "                        \"type\": \"string\"\n",
    "                    },\n",
    "                    \"forecast\": {\n",
    "                        \"description\": \"Weather condition descriptions\",\n",
    "                        \"items\": {\n",
    "                            \"type\": \"string\"\n",
    "                        },\n",
    "                        \"type\": \"array\"\n",
    "                    },\n",
    "                    \"location\": {\n",
    "                        \"description\": \"Location, e.g. the city name\",\n",
    "                        \"type\": \"string\"\n",
    "                    },\n",
    "                    \"temperature\": {\n",
    "                        \"description\": \"The temperature forecast for the location\",\n",
    "                        \"type\": \"integer\"\n",
    "                    }\n",
    "                },\n",
    "                \"type\": \"object\"\n",
    "            }\n",
    "        }\n",
    "    ],\n",
    "    \"max_tokens\": 3000,\n",
    "    \"profanity\": 'false',\n",
    "    \"model\": \"GigaChat-29b-8k-funcs\"\n",
    "}\n"
   ]
  },
  {
   "cell_type": "code",
   "execution_count": 41,
   "metadata": {},
   "outputs": [
    {
     "name": "stderr",
     "output_type": "stream",
     "text": [
      "/Users/21444528/Documents/tg_bot/venv/lib/python3.11/site-packages/urllib3/connectionpool.py:1103: InsecureRequestWarning: Unverified HTTPS request is being made to host 'wmapi-ift.saluteai-pd.sberdevices.ru'. Adding certificate verification is strongly advised. See: https://urllib3.readthedocs.io/en/latest/advanced-usage.html#tls-warnings\n",
      "  warnings.warn(\n"
     ]
    }
   ],
   "source": [
    "import requests\n",
    "r = requests.get('https://wmapi-ift.saluteai-pd.sberdevices.ru/v1/gigachat/models', verify=False)"
   ]
  },
  {
   "cell_type": "code",
   "execution_count": 43,
   "metadata": {},
   "outputs": [
    {
     "data": {
      "text/plain": [
       "'<!DOCTYPE html>\\n<html>\\n<head>\\n  <meta http-equiv=\"Content-Type\" content=\"text/html; charset=UTF-8\">\\n</head>\\n<body>\\n  <script>\\n    function copy() {\\n        document.oncopy = function(event) {\\n            let report = {\\n                report: {\\n                    datetime: \"2024-04-24 12:12:30 +0000\",\\n                    ip: \"84.252.149.90\",\\n                    id: \"UCdxZDBjKeA1\"\\n                }\\n            };\\n            event.clipboardData.setData(\"text\", JSON.stringify(report));\\n            event.preventDefault();\\n        };\\n        document.execCommand(\"copy\");\\n    }\\n  </script>\\n  <h1 align=\"center\">Forbidden</h1>\\n  <p align=\"center\">If you are not a bot, please copy the report and send it to our support team.</p>\\n  <p align=\"center\"><button onclick=\"copy()\">Copy</button></p>\\n</body>\\n</html>\\n'"
      ]
     },
     "execution_count": 43,
     "metadata": {},
     "output_type": "execute_result"
    }
   ],
   "source": [
    "r.text"
   ]
  },
  {
   "cell_type": "code",
   "execution_count": null,
   "metadata": {},
   "outputs": [],
   "source": []
  }
 ],
 "metadata": {
  "kernelspec": {
   "display_name": "venv",
   "language": "python",
   "name": "python3"
  },
  "language_info": {
   "codemirror_mode": {
    "name": "ipython",
    "version": 3
   },
   "file_extension": ".py",
   "mimetype": "text/x-python",
   "name": "python",
   "nbconvert_exporter": "python",
   "pygments_lexer": "ipython3",
   "version": "3.11.6"
  }
 },
 "nbformat": 4,
 "nbformat_minor": 2
}
